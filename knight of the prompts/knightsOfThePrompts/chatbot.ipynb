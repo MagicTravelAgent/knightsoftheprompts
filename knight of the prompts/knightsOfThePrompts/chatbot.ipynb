{
 "cells": [
  {
   "cell_type": "code",
   "execution_count": 2,
   "metadata": {},
   "outputs": [
    {
     "name": "stderr",
     "output_type": "stream",
     "text": [
      "\u001b[32m2024-01-23 19:57:14.281\u001b[0m | \u001b[1mINFO    \u001b[0m | \u001b[36mllm\u001b[0m:\u001b[36m<module>\u001b[0m:\u001b[36m19\u001b[0m - \u001b[1mUsing Azure OpenAI API at https://eastus2.api.cognitive.microsoft.com/\u001b[0m\n"
     ]
    }
   ],
   "source": [
    "\"\"\"Example usage of the 'llm' module to create a personalized chatbot.\"\"\"\n",
    "\n",
    "from llm import get_chat_completion, Message\n",
    "from loguru import logger\n"
   ]
  },
  {
   "cell_type": "code",
   "execution_count": 4,
   "metadata": {
    "collapsed": false,
    "jupyter": {
     "outputs_hidden": false
    }
   },
   "outputs": [],
   "source": [
    "who = input(\"Who do you want to chat with? \")\n",
    "messages = [\n",
    "    Message(\n",
    "        role=\"system\",\n",
    "        content=f\"You are a chatbot impersonating {who}. \"\n",
    "                f\"You remain in character at all times, not breaking immersion.\",\n",
    "    ),\n",
    "    Message(\n",
    "        role=\"assistant\",\n",
    "        content=\"I will initiate the conversation by greeting the user in a \"\n",
    "                \"suitable, character-specific way.\",\n",
    "    ),\n",
    "]\n"
   ]
  },
  {
   "cell_type": "code",
   "execution_count": 3,
   "metadata": {
    "collapsed": false,
    "jupyter": {
     "outputs_hidden": false
    }
   },
   "outputs": [
    {
     "ename": "NameError",
     "evalue": "name 'messages' is not defined",
     "output_type": "error",
     "traceback": [
      "\u001b[1;31m---------------------------------------------------------------------------\u001b[0m",
      "\u001b[1;31mNameError\u001b[0m                                 Traceback (most recent call last)",
      "Cell \u001b[1;32mIn[3], line 4\u001b[0m\n\u001b[0;32m      1\u001b[0m \u001b[38;5;28;01mwhile\u001b[39;00m \u001b[38;5;28;01mTrue\u001b[39;00m:\n\u001b[0;32m      2\u001b[0m     \u001b[38;5;66;03m# main loop: get answer from model, ask user for reply, repeat.\u001b[39;00m\n\u001b[0;32m      3\u001b[0m     completion \u001b[38;5;241m=\u001b[39m get_chat_completion(\n\u001b[1;32m----> 4\u001b[0m         \u001b[43mmessages\u001b[49m, model\u001b[38;5;241m=\u001b[39m\u001b[38;5;124m\"\u001b[39m\u001b[38;5;124mgpt-35-turbo-16k\u001b[39m\u001b[38;5;124m\"\u001b[39m, max_tokens\u001b[38;5;241m=\u001b[39m\u001b[38;5;241m1024\u001b[39m\n\u001b[0;32m      5\u001b[0m     )\n\u001b[0;32m      6\u001b[0m     logger\u001b[38;5;241m.\u001b[39minfo(\u001b[38;5;124m\"\u001b[39m\u001b[38;5;130;01m\\n\u001b[39;00m\u001b[38;5;124m\"\u001b[39m \u001b[38;5;241m+\u001b[39m completion\u001b[38;5;241m.\u001b[39mchoices[\u001b[38;5;241m0\u001b[39m]\u001b[38;5;241m.\u001b[39mmessage\u001b[38;5;241m.\u001b[39mcontent)\n\u001b[0;32m      7\u001b[0m     messages\u001b[38;5;241m.\u001b[39mappend(\n\u001b[0;32m      8\u001b[0m         Message(\n\u001b[0;32m      9\u001b[0m             role\u001b[38;5;241m=\u001b[39mcompletion\u001b[38;5;241m.\u001b[39mchoices[\u001b[38;5;241m0\u001b[39m]\u001b[38;5;241m.\u001b[39mmessage\u001b[38;5;241m.\u001b[39mrole,\n\u001b[0;32m     10\u001b[0m             content\u001b[38;5;241m=\u001b[39mcompletion\u001b[38;5;241m.\u001b[39mchoices[\u001b[38;5;241m0\u001b[39m]\u001b[38;5;241m.\u001b[39mmessage\u001b[38;5;241m.\u001b[39mcontent,\n\u001b[0;32m     11\u001b[0m         )\n\u001b[0;32m     12\u001b[0m     )\n",
      "\u001b[1;31mNameError\u001b[0m: name 'messages' is not defined"
     ]
    }
   ],
   "source": [
    "while True:\n",
    "    # main loop: get answer from model, ask user for reply, repeat.\n",
    "    completion = get_chat_completion(\n",
    "        messages, model=\"gpt-35-turbo-16k\", max_tokens=1024\n",
    "    )\n",
    "    logger.info(\"\\n\" + completion.choices[0].message.content)\n",
    "    messages.append(\n",
    "        Message(\n",
    "            role=completion.choices[0].message.role,\n",
    "            content=completion.choices[0].message.content,\n",
    "        )\n",
    "    )\n",
    "    messages.append(Message(role=\"user\", content=input(\"You: \")))\n",
    "\n",
    "    # open question: how can you make sure the model doesn't run out of context\n",
    "    # when the chat history grows, with the `messages` object having too much info?\n",
    "    ...\n",
    "    "
   ]
  },
  {
   "cell_type": "code",
   "execution_count": null,
   "metadata": {},
   "outputs": [],
   "source": []
  }
 ],
 "metadata": {
  "kernelspec": {
   "display_name": "Python 3 (ipykernel)",
   "language": "python",
   "name": "python3"
  },
  "language_info": {
   "codemirror_mode": {
    "name": "ipython",
    "version": 3
   },
   "file_extension": ".py",
   "mimetype": "text/x-python",
   "name": "python",
   "nbconvert_exporter": "python",
   "pygments_lexer": "ipython3",
   "version": "3.10.11"
  }
 },
 "nbformat": 4,
 "nbformat_minor": 4
}
